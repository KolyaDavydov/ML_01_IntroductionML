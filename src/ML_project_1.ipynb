{
 "cells": [
  {
   "cell_type": "markdown",
   "id": "8eaa7f24-c799-4c54-a539-77f8ee462296",
   "metadata": {},
   "source": [
    "# Machine learning introduction"
   ]
  },
  {
   "cell_type": "markdown",
   "id": "fdf71cb9-f5fa-455f-8188-818557c521a7",
   "metadata": {},
   "source": [
    "## 0. Imports"
   ]
  },
  {
   "cell_type": "code",
   "execution_count": 103,
   "id": "426db558-ed9c-4286-8530-3d357cac2f55",
   "metadata": {},
   "outputs": [],
   "source": [
    "import pandas as pd\n",
    "import numpy as np\n",
    "import sklearn\n",
    "import lightgbm as lgb\n",
    "import matplotlib.pyplot as plt\n",
    "import scipy\n",
    "import statsmodels\n",
    "import seaborn as sns\n",
    "import zipfile\n",
    "import json\n",
    "from sklearn.linear_model import LinearRegression\n",
    "from sklearn.tree import DecisionTreeRegressor\n",
    "from sklearn.metrics import root_mean_squared_error, mean_absolute_error\n",
    "import warnings\n",
    "warnings.filterwarnings('ignore')"
   ]
  },
  {
   "cell_type": "markdown",
   "id": "81be7b28-880b-4833-8c36-3a5b34e37cde",
   "metadata": {},
   "source": [
    "## 1. Introduction"
   ]
  },
  {
   "cell_type": "markdown",
   "id": "b8a2a01a-de93-4835-9b16-6c1faadfe848",
   "metadata": {},
   "source": [
    "Запишите свои ответы во вступительной части вашего блокнота.\n",
    "1. Для начала напишите, пожалуйста, 5 примеров применения методов ML в жизни. В чем преимущество использования методов машинного обучения в каждом из ваших примеров?\n",
    "2. Используйте классификацию задач во введении, чтобы решить, какой класс вы можете присвоить задачам из таблицы выше и 5 приведенным вами примерам.\n",
    "3. Подумайте и предположите, в чем разница между мультиклассом и мультиметкой.\n",
    "4. Является ли теоретический пример с ценами на жилье классификацией регрессионной проблемы? Можно ли свести задачу регрессии к классификации?"
   ]
  },
  {
   "cell_type": "markdown",
   "id": "4da5a87a-a7c3-4d4e-aa5c-9e8e6a048b94",
   "metadata": {},
   "source": [
    "1) Примеры для применения методов машиного обучения\n",
    "- выиграет футбольная команда или нет\n",
    "- сколько будет стоить моя квартира через 3 года\n",
    "- распределить группу программистов на категории(Frontend, Backend, аналитик данных и т.д.) исходя из их hadr skills\n",
    "- определить прравило которое скажет, что если человек покупает определенный набор продуктов в магазине, то он скорее всего купит молоко (Например человек у которого в продуктовой корзине есть яйца, сыр, кофе и хлеб - скорее всего купит и молоко)\n",
    "- определить звонит ли мошеник или нет"
   ]
  },
  {
   "cell_type": "markdown",
   "id": "2771c932-73a6-494a-a6ec-e48ac0abe9e0",
   "metadata": {},
   "source": [
    "2)\n",
    "|  | Задача | метод ML |\n",
    "| ----- | ------ | ------ |\n",
    "| 1 | Предсказание цены дома | Обучение с учителем - задача регрессии |\n",
    "| 2 | Предсказать вернет клиент кредит или нет | Обучение с учителем - задача бинарной классификации |\n",
    "| 3 | Предсказать поможет ли лекарство пациенту | Обучение с учителем - задача бинарной классификации |\n",
    "| 4 | Предсказать какое лекарство поможет пациенту | Обучение с учителем - задача мультиклассовой классификации |\n",
    "| 5 | Выберать сегмент клиентов для промо-коммуникации | Обучение без учителя - Задача ассоциации |\n",
    "| 6 | Распознавать бракованную продукцию на производственной линии (по сканам фотографии) | Обучение с учителем - задача бинарной классификации |\n",
    "| 7 | Решить, как разместить товары на полке в магазине. | Обучение без учителя - задача класстеризации |\n",
    "| 8 | Поиск сайтов по вводу текстового запроса | Обучение с учителем - задача мультиклассовой классификации |\n",
    "| 9 | Разделите клиентов магазина на сегменты, чтобы понять различия в их поведении. | Обучение без учителя - задача класстеризации |\n",
    "| 10 | Обнаружение аномалий в трафике сайта | Обучение без учителя - Задача ассоциации или Обучение с учителем - задача бинарной классификации |\n",
    "| 11 | Предсказать выиграет футбольная команда или нет | Обучение с учителем - задача бинарной классификации |\n",
    "| 12 | Предсказать сколько будет стоить моя квартира через 3 года | Обучение с учителем - задача регрессии |\n",
    "| 13 | распределить группу программистов на категории(Frontend, Backend, аналитик данных и т.д.) исходя из их hadr skills | Обучение без учителя - задача класстеризации |\n",
    "| 14 | определить прравило которое скажет, что если человек покупает определенный набор продуктов в магазине, то он скорее всего купит молоко (Например человек у которого в продуктовой корзине есть яйца, сыр, кофе и хлеб - скорее всего купит и молоко) | Обучение без учителя - Задача ассоциации |\n",
    "| 15 | определить звонит ли мошеник или нет | Обучение с учителем - задача бинарной классификации\n",
    "\n"
   ]
  },
  {
   "cell_type": "markdown",
   "id": "3734acf6-1d8a-40c7-a656-8bca023b7375",
   "metadata": {},
   "source": [
    "## 2. Вводный анализ данных"
   ]
  },
  {
   "cell_type": "markdown",
   "id": "feec8c6a-3b4d-43b5-ab58-3e075abaf5c5",
   "metadata": {},
   "source": [
    "1. Импортируйте библиотеки pandas , numpy , sklearn , Lightgbm , scipy , statsmodels , matplotlib , seaborn . Используйте pip install , если это необходимо\n",
    "2. Загрузите данные из [kaggle](https://www.kaggle.com/competitions/two-sigma-connect-rental-listing-inquiries/data) с помощью pandas . Вам нужны только данные таблицы и train.json.\n",
    "3. Каков размер ваших данных?\n",
    "4. Распечатайте список столбцов. Какой столбец является целевым?\n",
    "5. Проведите быстрый анализ данных: используйте методы info() , описать() , corr() . Объясните результаты выходных данных. Есть ли пустые столбцы?\n",
    "6. Мы будем работать только с тремя функциями: «ванные комнаты», «спальни», «уровень интереса» и с целевым столбцом «цена». Создайте фрейм данных только с этими столбцами."
   ]
  },
  {
   "cell_type": "code",
   "execution_count": 104,
   "id": "81dbbd96-9ffd-4548-a479-c4a808328a24",
   "metadata": {},
   "outputs": [
    {
     "name": "stdout",
     "output_type": "stream",
     "text": [
      "train.json\n"
     ]
    }
   ],
   "source": [
    "# 2\n",
    "d = None  \n",
    "data = None  \n",
    "with zipfile.ZipFile(\"data/train.json.zip\", \"r\") as z:\n",
    "    for filename in z.namelist():  \n",
    "        print(filename)  \n",
    "        with z.open(filename) as f:  \n",
    "            data = f.read()  \n",
    "            d = json.loads(data.decode(\"utf-8\"))"
   ]
  },
  {
   "cell_type": "code",
   "execution_count": 105,
   "id": "1440680d-f63f-423c-b4aa-98b3d246ebd2",
   "metadata": {},
   "outputs": [
    {
     "data": {
      "text/plain": [
       "740280"
      ]
     },
     "execution_count": 105,
     "metadata": {},
     "output_type": "execute_result"
    }
   ],
   "source": [
    "# 3\n",
    "df = pd.DataFrame.from_dict(d)\n",
    "df.size"
   ]
  },
  {
   "cell_type": "code",
   "execution_count": 106,
   "id": "2cd805ba-56a4-499e-af97-183b2a0b7ab5",
   "metadata": {},
   "outputs": [
    {
     "data": {
      "text/plain": [
       "['bathrooms',\n",
       " 'bedrooms',\n",
       " 'building_id',\n",
       " 'created',\n",
       " 'description',\n",
       " 'display_address',\n",
       " 'features',\n",
       " 'latitude',\n",
       " 'listing_id',\n",
       " 'longitude',\n",
       " 'manager_id',\n",
       " 'photos',\n",
       " 'price',\n",
       " 'street_address',\n",
       " 'interest_level']"
      ]
     },
     "execution_count": 106,
     "metadata": {},
     "output_type": "execute_result"
    }
   ],
   "source": [
    "# 4\n",
    "list(df.columns.values )\n",
    "# целевым является столбец 'price'"
   ]
  },
  {
   "cell_type": "code",
   "execution_count": 107,
   "id": "7ecd56d6-12fc-48f6-a1c0-5e1d73b545e3",
   "metadata": {},
   "outputs": [
    {
     "name": "stdout",
     "output_type": "stream",
     "text": [
      "<class 'pandas.core.frame.DataFrame'>\n",
      "Index: 49352 entries, 4 to 124009\n",
      "Data columns (total 15 columns):\n",
      " #   Column           Non-Null Count  Dtype  \n",
      "---  ------           --------------  -----  \n",
      " 0   bathrooms        49352 non-null  float64\n",
      " 1   bedrooms         49352 non-null  int64  \n",
      " 2   building_id      49352 non-null  object \n",
      " 3   created          49352 non-null  object \n",
      " 4   description      49352 non-null  object \n",
      " 5   display_address  49352 non-null  object \n",
      " 6   features         49352 non-null  object \n",
      " 7   latitude         49352 non-null  float64\n",
      " 8   listing_id       49352 non-null  int64  \n",
      " 9   longitude        49352 non-null  float64\n",
      " 10  manager_id       49352 non-null  object \n",
      " 11  photos           49352 non-null  object \n",
      " 12  price            49352 non-null  int64  \n",
      " 13  street_address   49352 non-null  object \n",
      " 14  interest_level   49352 non-null  object \n",
      "dtypes: float64(3), int64(3), object(9)\n",
      "memory usage: 6.0+ MB\n"
     ]
    }
   ],
   "source": [
    "# 5\n",
    "df.info()"
   ]
  },
  {
   "cell_type": "code",
   "execution_count": 108,
   "id": "a84e5919-3472-49a5-a03d-a66146842e94",
   "metadata": {},
   "outputs": [
    {
     "data": {
      "text/html": [
       "<div>\n",
       "<style scoped>\n",
       "    .dataframe tbody tr th:only-of-type {\n",
       "        vertical-align: middle;\n",
       "    }\n",
       "\n",
       "    .dataframe tbody tr th {\n",
       "        vertical-align: top;\n",
       "    }\n",
       "\n",
       "    .dataframe thead th {\n",
       "        text-align: right;\n",
       "    }\n",
       "</style>\n",
       "<table border=\"1\" class=\"dataframe\">\n",
       "  <thead>\n",
       "    <tr style=\"text-align: right;\">\n",
       "      <th></th>\n",
       "      <th>bathrooms</th>\n",
       "      <th>bedrooms</th>\n",
       "      <th>latitude</th>\n",
       "      <th>listing_id</th>\n",
       "      <th>longitude</th>\n",
       "      <th>price</th>\n",
       "    </tr>\n",
       "  </thead>\n",
       "  <tbody>\n",
       "    <tr>\n",
       "      <th>count</th>\n",
       "      <td>49352.00000</td>\n",
       "      <td>49352.000000</td>\n",
       "      <td>49352.000000</td>\n",
       "      <td>4.935200e+04</td>\n",
       "      <td>49352.000000</td>\n",
       "      <td>4.935200e+04</td>\n",
       "    </tr>\n",
       "    <tr>\n",
       "      <th>mean</th>\n",
       "      <td>1.21218</td>\n",
       "      <td>1.541640</td>\n",
       "      <td>40.741545</td>\n",
       "      <td>7.024055e+06</td>\n",
       "      <td>-73.955716</td>\n",
       "      <td>3.830174e+03</td>\n",
       "    </tr>\n",
       "    <tr>\n",
       "      <th>std</th>\n",
       "      <td>0.50142</td>\n",
       "      <td>1.115018</td>\n",
       "      <td>0.638535</td>\n",
       "      <td>1.262746e+05</td>\n",
       "      <td>1.177912</td>\n",
       "      <td>2.206687e+04</td>\n",
       "    </tr>\n",
       "    <tr>\n",
       "      <th>min</th>\n",
       "      <td>0.00000</td>\n",
       "      <td>0.000000</td>\n",
       "      <td>0.000000</td>\n",
       "      <td>6.811957e+06</td>\n",
       "      <td>-118.271000</td>\n",
       "      <td>4.300000e+01</td>\n",
       "    </tr>\n",
       "    <tr>\n",
       "      <th>25%</th>\n",
       "      <td>1.00000</td>\n",
       "      <td>1.000000</td>\n",
       "      <td>40.728300</td>\n",
       "      <td>6.915888e+06</td>\n",
       "      <td>-73.991700</td>\n",
       "      <td>2.500000e+03</td>\n",
       "    </tr>\n",
       "    <tr>\n",
       "      <th>50%</th>\n",
       "      <td>1.00000</td>\n",
       "      <td>1.000000</td>\n",
       "      <td>40.751800</td>\n",
       "      <td>7.021070e+06</td>\n",
       "      <td>-73.977900</td>\n",
       "      <td>3.150000e+03</td>\n",
       "    </tr>\n",
       "    <tr>\n",
       "      <th>75%</th>\n",
       "      <td>1.00000</td>\n",
       "      <td>2.000000</td>\n",
       "      <td>40.774300</td>\n",
       "      <td>7.128733e+06</td>\n",
       "      <td>-73.954800</td>\n",
       "      <td>4.100000e+03</td>\n",
       "    </tr>\n",
       "    <tr>\n",
       "      <th>max</th>\n",
       "      <td>10.00000</td>\n",
       "      <td>8.000000</td>\n",
       "      <td>44.883500</td>\n",
       "      <td>7.753784e+06</td>\n",
       "      <td>0.000000</td>\n",
       "      <td>4.490000e+06</td>\n",
       "    </tr>\n",
       "  </tbody>\n",
       "</table>\n",
       "</div>"
      ],
      "text/plain": [
       "         bathrooms      bedrooms      latitude    listing_id     longitude  \\\n",
       "count  49352.00000  49352.000000  49352.000000  4.935200e+04  49352.000000   \n",
       "mean       1.21218      1.541640     40.741545  7.024055e+06    -73.955716   \n",
       "std        0.50142      1.115018      0.638535  1.262746e+05      1.177912   \n",
       "min        0.00000      0.000000      0.000000  6.811957e+06   -118.271000   \n",
       "25%        1.00000      1.000000     40.728300  6.915888e+06    -73.991700   \n",
       "50%        1.00000      1.000000     40.751800  7.021070e+06    -73.977900   \n",
       "75%        1.00000      2.000000     40.774300  7.128733e+06    -73.954800   \n",
       "max       10.00000      8.000000     44.883500  7.753784e+06      0.000000   \n",
       "\n",
       "              price  \n",
       "count  4.935200e+04  \n",
       "mean   3.830174e+03  \n",
       "std    2.206687e+04  \n",
       "min    4.300000e+01  \n",
       "25%    2.500000e+03  \n",
       "50%    3.150000e+03  \n",
       "75%    4.100000e+03  \n",
       "max    4.490000e+06  "
      ]
     },
     "execution_count": 108,
     "metadata": {},
     "output_type": "execute_result"
    }
   ],
   "source": [
    "df.describe()"
   ]
  },
  {
   "cell_type": "code",
   "execution_count": 109,
   "id": "6afe7266-e427-44bd-b93a-8f8ff1a1c504",
   "metadata": {},
   "outputs": [
    {
     "data": {
      "text/html": [
       "<div>\n",
       "<style scoped>\n",
       "    .dataframe tbody tr th:only-of-type {\n",
       "        vertical-align: middle;\n",
       "    }\n",
       "\n",
       "    .dataframe tbody tr th {\n",
       "        vertical-align: top;\n",
       "    }\n",
       "\n",
       "    .dataframe thead th {\n",
       "        text-align: right;\n",
       "    }\n",
       "</style>\n",
       "<table border=\"1\" class=\"dataframe\">\n",
       "  <thead>\n",
       "    <tr style=\"text-align: right;\">\n",
       "      <th></th>\n",
       "      <th>bathrooms</th>\n",
       "      <th>bedrooms</th>\n",
       "      <th>latitude</th>\n",
       "      <th>listing_id</th>\n",
       "      <th>longitude</th>\n",
       "      <th>price</th>\n",
       "    </tr>\n",
       "  </thead>\n",
       "  <tbody>\n",
       "    <tr>\n",
       "      <th>bathrooms</th>\n",
       "      <td>1.000000</td>\n",
       "      <td>0.533446</td>\n",
       "      <td>-0.009657</td>\n",
       "      <td>0.000776</td>\n",
       "      <td>0.010393</td>\n",
       "      <td>0.069661</td>\n",
       "    </tr>\n",
       "    <tr>\n",
       "      <th>bedrooms</th>\n",
       "      <td>0.533446</td>\n",
       "      <td>1.000000</td>\n",
       "      <td>-0.004745</td>\n",
       "      <td>0.011968</td>\n",
       "      <td>0.006892</td>\n",
       "      <td>0.051788</td>\n",
       "    </tr>\n",
       "    <tr>\n",
       "      <th>latitude</th>\n",
       "      <td>-0.009657</td>\n",
       "      <td>-0.004745</td>\n",
       "      <td>1.000000</td>\n",
       "      <td>0.001712</td>\n",
       "      <td>-0.966807</td>\n",
       "      <td>-0.000707</td>\n",
       "    </tr>\n",
       "    <tr>\n",
       "      <th>listing_id</th>\n",
       "      <td>0.000776</td>\n",
       "      <td>0.011968</td>\n",
       "      <td>0.001712</td>\n",
       "      <td>1.000000</td>\n",
       "      <td>-0.000907</td>\n",
       "      <td>0.008090</td>\n",
       "    </tr>\n",
       "    <tr>\n",
       "      <th>longitude</th>\n",
       "      <td>0.010393</td>\n",
       "      <td>0.006892</td>\n",
       "      <td>-0.966807</td>\n",
       "      <td>-0.000907</td>\n",
       "      <td>1.000000</td>\n",
       "      <td>-0.000087</td>\n",
       "    </tr>\n",
       "    <tr>\n",
       "      <th>price</th>\n",
       "      <td>0.069661</td>\n",
       "      <td>0.051788</td>\n",
       "      <td>-0.000707</td>\n",
       "      <td>0.008090</td>\n",
       "      <td>-0.000087</td>\n",
       "      <td>1.000000</td>\n",
       "    </tr>\n",
       "  </tbody>\n",
       "</table>\n",
       "</div>"
      ],
      "text/plain": [
       "            bathrooms  bedrooms  latitude  listing_id  longitude     price\n",
       "bathrooms    1.000000  0.533446 -0.009657    0.000776   0.010393  0.069661\n",
       "bedrooms     0.533446  1.000000 -0.004745    0.011968   0.006892  0.051788\n",
       "latitude    -0.009657 -0.004745  1.000000    0.001712  -0.966807 -0.000707\n",
       "listing_id   0.000776  0.011968  0.001712    1.000000  -0.000907  0.008090\n",
       "longitude    0.010393  0.006892 -0.966807   -0.000907   1.000000 -0.000087\n",
       "price        0.069661  0.051788 -0.000707    0.008090  -0.000087  1.000000"
      ]
     },
     "execution_count": 109,
     "metadata": {},
     "output_type": "execute_result"
    }
   ],
   "source": [
    "df[['bathrooms',\n",
    " 'bedrooms',\n",
    " 'latitude',\n",
    " 'listing_id',\n",
    " 'longitude',\n",
    " 'price']].corr()"
   ]
  },
  {
   "cell_type": "markdown",
   "id": "1dfc61b2-0de2-47ab-9c9d-9ed02393ad3a",
   "metadata": {},
   "source": [
    "#### Разяснение.\n",
    "- Датасет содержит 49 532 строк данных, 14 признаков (из них 5 числовых) и целевое значение - 'price'\n",
    "- Количество ванных и спальных комнат наиболее коррелирует с ценной"
   ]
  },
  {
   "cell_type": "code",
   "execution_count": 110,
   "id": "7a28f062-692a-4361-9ee9-7896d3ca18e6",
   "metadata": {},
   "outputs": [
    {
     "data": {
      "text/html": [
       "<div>\n",
       "<style scoped>\n",
       "    .dataframe tbody tr th:only-of-type {\n",
       "        vertical-align: middle;\n",
       "    }\n",
       "\n",
       "    .dataframe tbody tr th {\n",
       "        vertical-align: top;\n",
       "    }\n",
       "\n",
       "    .dataframe thead th {\n",
       "        text-align: right;\n",
       "    }\n",
       "</style>\n",
       "<table border=\"1\" class=\"dataframe\">\n",
       "  <thead>\n",
       "    <tr style=\"text-align: right;\">\n",
       "      <th></th>\n",
       "      <th>index</th>\n",
       "      <th>bathrooms</th>\n",
       "      <th>bedrooms</th>\n",
       "      <th>price</th>\n",
       "      <th>interest_level</th>\n",
       "    </tr>\n",
       "  </thead>\n",
       "  <tbody>\n",
       "    <tr>\n",
       "      <th>0</th>\n",
       "      <td>4</td>\n",
       "      <td>1.0</td>\n",
       "      <td>1</td>\n",
       "      <td>2400</td>\n",
       "      <td>medium</td>\n",
       "    </tr>\n",
       "    <tr>\n",
       "      <th>1</th>\n",
       "      <td>6</td>\n",
       "      <td>1.0</td>\n",
       "      <td>2</td>\n",
       "      <td>3800</td>\n",
       "      <td>low</td>\n",
       "    </tr>\n",
       "    <tr>\n",
       "      <th>2</th>\n",
       "      <td>9</td>\n",
       "      <td>1.0</td>\n",
       "      <td>2</td>\n",
       "      <td>3495</td>\n",
       "      <td>medium</td>\n",
       "    </tr>\n",
       "    <tr>\n",
       "      <th>3</th>\n",
       "      <td>10</td>\n",
       "      <td>1.5</td>\n",
       "      <td>3</td>\n",
       "      <td>3000</td>\n",
       "      <td>medium</td>\n",
       "    </tr>\n",
       "    <tr>\n",
       "      <th>4</th>\n",
       "      <td>15</td>\n",
       "      <td>1.0</td>\n",
       "      <td>0</td>\n",
       "      <td>2795</td>\n",
       "      <td>low</td>\n",
       "    </tr>\n",
       "    <tr>\n",
       "      <th>...</th>\n",
       "      <td>...</td>\n",
       "      <td>...</td>\n",
       "      <td>...</td>\n",
       "      <td>...</td>\n",
       "      <td>...</td>\n",
       "    </tr>\n",
       "    <tr>\n",
       "      <th>49347</th>\n",
       "      <td>124000</td>\n",
       "      <td>1.0</td>\n",
       "      <td>3</td>\n",
       "      <td>2800</td>\n",
       "      <td>low</td>\n",
       "    </tr>\n",
       "    <tr>\n",
       "      <th>49348</th>\n",
       "      <td>124002</td>\n",
       "      <td>1.0</td>\n",
       "      <td>2</td>\n",
       "      <td>2395</td>\n",
       "      <td>medium</td>\n",
       "    </tr>\n",
       "    <tr>\n",
       "      <th>49349</th>\n",
       "      <td>124004</td>\n",
       "      <td>1.0</td>\n",
       "      <td>1</td>\n",
       "      <td>1850</td>\n",
       "      <td>medium</td>\n",
       "    </tr>\n",
       "    <tr>\n",
       "      <th>49350</th>\n",
       "      <td>124008</td>\n",
       "      <td>1.0</td>\n",
       "      <td>2</td>\n",
       "      <td>4195</td>\n",
       "      <td>medium</td>\n",
       "    </tr>\n",
       "    <tr>\n",
       "      <th>49351</th>\n",
       "      <td>124009</td>\n",
       "      <td>1.0</td>\n",
       "      <td>3</td>\n",
       "      <td>4280</td>\n",
       "      <td>high</td>\n",
       "    </tr>\n",
       "  </tbody>\n",
       "</table>\n",
       "<p>49352 rows × 5 columns</p>\n",
       "</div>"
      ],
      "text/plain": [
       "        index  bathrooms  bedrooms  price interest_level\n",
       "0           4        1.0         1   2400         medium\n",
       "1           6        1.0         2   3800            low\n",
       "2           9        1.0         2   3495         medium\n",
       "3          10        1.5         3   3000         medium\n",
       "4          15        1.0         0   2795            low\n",
       "...       ...        ...       ...    ...            ...\n",
       "49347  124000        1.0         3   2800            low\n",
       "49348  124002        1.0         2   2395         medium\n",
       "49349  124004        1.0         1   1850         medium\n",
       "49350  124008        1.0         2   4195         medium\n",
       "49351  124009        1.0         3   4280           high\n",
       "\n",
       "[49352 rows x 5 columns]"
      ]
     },
     "execution_count": 110,
     "metadata": {},
     "output_type": "execute_result"
    }
   ],
   "source": [
    "# 6\n",
    "df = df[['bathrooms',\n",
    " 'bedrooms',\n",
    " 'price',\n",
    " 'interest_level']].reset_index()\n",
    "df"
   ]
  },
  {
   "cell_type": "markdown",
   "id": "364749cc-e862-43cc-b057-aa971a8b2624",
   "metadata": {},
   "source": [
    "## 3. Статистический анализ данных"
   ]
  },
  {
   "cell_type": "markdown",
   "id": "70cd6543-fbce-4aec-b3ab-7f0f06c332f7",
   "metadata": {},
   "source": [
    "1. Чтобы начать статистический анализ данных, мы рекомендуем вам освежить базовые знания статистики, такие как среднее значение / медиана / мода / дисперсия / стандартное отклонение. Также вы можете свободно работать с распределениями (Дискретное равномерное распределение, Распределение Бернулли, Биномиальное распределение, Распределение Пуассона, Нормальное распределение, Экспоненциальное распределение). Убедитесь, что вы знаете определения выбросов, процентилей и конфиденциальных интервалов. Статья будет позже.\n",
    "\r",
    "2. \n",
    "Сделайте быстрый вывод с помощью этой[статьи](https://towardsdatascience.com/how-to-compare-two-or-more-distributions-9b06ee4d30bf)и . Пожалуйста, обратите внимание на такие аспекты, как распределения и гистограммы, коробчатая диаграмма, выбросы, функция плотности ядра Y — объектом."
   ]
  },
  {
   "cell_type": "markdown",
   "id": "59ee9d56-064a-43d8-9bce-f06994b1b311",
   "metadata": {},
   "source": [
    "### 3.3 Целевой анализ.\n",
    "- Постройте гистограмму, чтобы понять распределение цели. Все ясно?\n",
    "- Следующий шаг — boxplot(). Что вы можете сказать о цели? Есть ли какие-либо выбросы?\n",
    "- Удалите строки, выходящие за пределы 1 и 99 процентилей целевого столбца.\n",
    "- Снова постройте гистограмму цены. Объясните результат."
   ]
  },
  {
   "cell_type": "code",
   "execution_count": 111,
   "id": "6b57dc40-98bf-424a-aeb9-21556a202561",
   "metadata": {},
   "outputs": [
    {
     "data": {
      "image/png": "[encoded data removed]",
      "text/plain": [
       "<Figure size 640x480 with 1 Axes>"
      ]
     },
     "metadata": {},
     "output_type": "display_data"
    }
   ],
   "source": [
    "plt.hist(df['price'], bins=50)\n",
    "plt.show()"
   ]
  },
  {
   "cell_type": "code",
   "execution_count": 112,
   "id": "b0b76be2-e245-4173-902a-9ba41fdfc8ac",
   "metadata": {},
   "outputs": [
    {
     "data": {
      "image/png": "[encoded data removed]",
      "text/plain": [
       "<Figure size 640x480 with 1 Axes>"
      ]
     },
     "metadata": {},
     "output_type": "display_data"
    }
   ],
   "source": [
    "plt.boxplot(df['price'], vert=False)\n",
    "plt.show()"
   ]
  },
  {
   "cell_type": "code",
   "execution_count": 113,
   "id": "44c322a3-ffd4-4cf0-bb4c-35e5d96ce13e",
   "metadata": {},
   "outputs": [
    {
     "name": "stdout",
     "output_type": "stream",
     "text": [
      "значение нижнего процентиля(0.01): 1475.0\n",
      "значение верхнего процентиля(0.99): 13000.0\n"
     ]
    },
    {
     "data": {
      "image/png": "[encoded data removed]",
      "text/plain": [
       "<Figure size 640x480 with 1 Axes>"
      ]
     },
     "metadata": {},
     "output_type": "display_data"
    },
    {
     "name": "stdout",
     "output_type": "stream",
     "text": [
      "после удаления выбросов гситограмма стала более понятной\n"
     ]
    }
   ],
   "source": [
    "low_quantile = df['price'].quantile(0.01)\n",
    "up_quantile = df['price'].quantile(0.99)\n",
    "print(f'значение нижнего процентиля(0.01): {low_quantile}')\n",
    "print(f'значение верхнего процентиля(0.99): {up_quantile}')\n",
    "\n",
    "# Оставляем строки где значение находятся между данными процентилями\n",
    "df_new = df[(df['price'] > low_quantile)&(df['price'] < up_quantile)]\n",
    "\n",
    "# снова рисуем гистограмму\n",
    "plt.hist(df_new['price'], bins=50)\n",
    "plt.show()\n",
    "print('после удаления выбросов гситограмма стала более понятной')"
   ]
  },
  {
   "cell_type": "markdown",
   "id": "97406cb8-3a59-426c-a07f-f6ccd66e8d16",
   "metadata": {},
   "source": [
    "### 3.4. Анализ особенностей\n",
    "- Каков тип столбца «interest_level»?\n",
    "- Распечатайте значения этого столбца. Сколько элементов содержит каждое значение?\n",
    "- Расшифруйте эти значения. Например, вы можете заменить каждое значение на 0, 1 или 2.\n",
    "- Постройте гистограммы для объектов «ванные комнаты», «спальни». Есть ли выбросы?"
   ]
  },
  {
   "cell_type": "code",
   "execution_count": 114,
   "id": "9058afb5-fd94-4009-900b-cf73fbb4a9d1",
   "metadata": {},
   "outputs": [
    {
     "name": "stdout",
     "output_type": "stream",
     "text": [
      "Тип данных столбца `interest_level`: object\n"
     ]
    }
   ],
   "source": [
    "print('Тип данных столбца `interest_level`:', df['interest_level'].dtypes)"
   ]
  },
  {
   "cell_type": "code",
   "execution_count": 115,
   "id": "4524cdf8-c6c2-4149-9194-02a0288f09e7",
   "metadata": {},
   "outputs": [
    {
     "data": {
      "text/plain": [
       "array(['medium', 'low', 'high'], dtype=object)"
      ]
     },
     "execution_count": 115,
     "metadata": {},
     "output_type": "execute_result"
    }
   ],
   "source": [
    "df['interest_level'].unique()"
   ]
  },
  {
   "cell_type": "code",
   "execution_count": 116,
   "id": "40e721d3-0b90-4ae1-84ed-563bc9ffc449",
   "metadata": {},
   "outputs": [
    {
     "data": {
      "text/html": [
       "<div>\n",
       "<style scoped>\n",
       "    .dataframe tbody tr th:only-of-type {\n",
       "        vertical-align: middle;\n",
       "    }\n",
       "\n",
       "    .dataframe tbody tr th {\n",
       "        vertical-align: top;\n",
       "    }\n",
       "\n",
       "    .dataframe thead th {\n",
       "        text-align: right;\n",
       "    }\n",
       "</style>\n",
       "<table border=\"1\" class=\"dataframe\">\n",
       "  <thead>\n",
       "    <tr style=\"text-align: right;\">\n",
       "      <th></th>\n",
       "      <th>index</th>\n",
       "      <th>bathrooms</th>\n",
       "      <th>bedrooms</th>\n",
       "      <th>price</th>\n",
       "      <th>interest_level</th>\n",
       "    </tr>\n",
       "  </thead>\n",
       "  <tbody>\n",
       "    <tr>\n",
       "      <th>0</th>\n",
       "      <td>4</td>\n",
       "      <td>1.0</td>\n",
       "      <td>1</td>\n",
       "      <td>2400</td>\n",
       "      <td>1</td>\n",
       "    </tr>\n",
       "    <tr>\n",
       "      <th>1</th>\n",
       "      <td>6</td>\n",
       "      <td>1.0</td>\n",
       "      <td>2</td>\n",
       "      <td>3800</td>\n",
       "      <td>0</td>\n",
       "    </tr>\n",
       "    <tr>\n",
       "      <th>2</th>\n",
       "      <td>9</td>\n",
       "      <td>1.0</td>\n",
       "      <td>2</td>\n",
       "      <td>3495</td>\n",
       "      <td>1</td>\n",
       "    </tr>\n",
       "    <tr>\n",
       "      <th>3</th>\n",
       "      <td>10</td>\n",
       "      <td>1.5</td>\n",
       "      <td>3</td>\n",
       "      <td>3000</td>\n",
       "      <td>1</td>\n",
       "    </tr>\n",
       "    <tr>\n",
       "      <th>4</th>\n",
       "      <td>15</td>\n",
       "      <td>1.0</td>\n",
       "      <td>0</td>\n",
       "      <td>2795</td>\n",
       "      <td>0</td>\n",
       "    </tr>\n",
       "  </tbody>\n",
       "</table>\n",
       "</div>"
      ],
      "text/plain": [
       "  index  bathrooms  bedrooms  price  interest_level\n",
       "0     4        1.0         1   2400               1\n",
       "1     6        1.0         2   3800               0\n",
       "2     9        1.0         2   3495               1\n",
       "3    10        1.5         3   3000               1\n",
       "4    15        1.0         0   2795               0"
      ]
     },
     "execution_count": 116,
     "metadata": {},
     "output_type": "execute_result"
    }
   ],
   "source": [
    "categorical_data = {'low': 0, 'medium':1, 'high':2}\n",
    "df_new['interest_level'] = df_new['interest_level'].map(categorical_data)\n",
    "df_new.head()"
   ]
  },
  {
   "cell_type": "code",
   "execution_count": 117,
   "id": "a93a7f94-abd0-4976-a324-7b76688482e3",
   "metadata": {},
   "outputs": [
    {
     "data": {
      "image/png": "[encoded data removed]",
      "text/plain": [
       "<Figure size 1200x1000 with 4 Axes>"
      ]
     },
     "metadata": {},
     "output_type": "display_data"
    }
   ],
   "source": [
    "plt.figure(figsize=(12,10))\n",
    "plt.subplot(221)\n",
    "plt.hist(df_new['bathrooms'])\n",
    "plt.title('распределение кол-ва квартир от кол-ва ванных')\n",
    "plt.xlabel('количество ванных комнат')\n",
    "plt.ylabel('количество квартир')\n",
    "\n",
    "plt.subplot(222)\n",
    "plt.hist(df_new['bedrooms'])\n",
    "plt.title('распределение кол-ва квартир от кол-ва спален')\n",
    "plt.xlabel('количество спальных комнат')\n",
    "plt.ylabel('количество квартир')\n",
    "\n",
    "plt.subplot(223)\n",
    "plt.boxplot(df['bathrooms'], vert=False)\n",
    "plt.xlabel('количество ванных комнат')\n",
    "\n",
    "plt.subplot(224)\n",
    "plt.boxplot(df['bedrooms'], vert=False)\n",
    "plt.xlabel('количество спальных комнат')\n",
    "\n",
    "plt.show()\n",
    "# Впринципе выбросов нет, заметно, что количество квартир на рынке с большим количество ванных комнат и спален значительно меньше\n",
    "# Преобладают квартиры с одной ванной и одной спальной комнатой"
   ]
  },
  {
   "cell_type": "markdown",
   "id": "4b5f0696-c709-4c6d-8b2d-2736abe17d7a",
   "metadata": {},
   "source": [
    "### 3.5. Комплексный анализ\n",
    "- Постройте матрицу корреляции, чтобы понять корреляцию между функциями и целью. Постройте график тепловой карты для корреляционной матрицы. Есть ли корреляция?\n",
    "- Используйте диаграмму рассеяния, чтобы визуализировать корреляцию между функциями и целью. Вы должны вернуть 3 графика, где ось X является целевой, а ось Y — объектом."
   ]
  },
  {
   "cell_type": "code",
   "execution_count": 118,
   "id": "f26000be-51c9-4382-abf8-545874e4e8ae",
   "metadata": {},
   "outputs": [
    {
     "data": {
      "text/html": [
       "<div>\n",
       "<style scoped>\n",
       "    .dataframe tbody tr th:only-of-type {\n",
       "        vertical-align: middle;\n",
       "    }\n",
       "\n",
       "    .dataframe tbody tr th {\n",
       "        vertical-align: top;\n",
       "    }\n",
       "\n",
       "    .dataframe thead th {\n",
       "        text-align: right;\n",
       "    }\n",
       "</style>\n",
       "<table border=\"1\" class=\"dataframe\">\n",
       "  <thead>\n",
       "    <tr style=\"text-align: right;\">\n",
       "      <th></th>\n",
       "      <th>bathrooms</th>\n",
       "      <th>bedrooms</th>\n",
       "      <th>interest_level</th>\n",
       "      <th>price</th>\n",
       "    </tr>\n",
       "  </thead>\n",
       "  <tbody>\n",
       "    <tr>\n",
       "      <th>bathrooms</th>\n",
       "      <td>1.000000</td>\n",
       "      <td>0.517200</td>\n",
       "      <td>-0.062819</td>\n",
       "      <td>0.670808</td>\n",
       "    </tr>\n",
       "    <tr>\n",
       "      <th>bedrooms</th>\n",
       "      <td>0.517200</td>\n",
       "      <td>1.000000</td>\n",
       "      <td>0.051282</td>\n",
       "      <td>0.547310</td>\n",
       "    </tr>\n",
       "    <tr>\n",
       "      <th>interest_level</th>\n",
       "      <td>-0.062819</td>\n",
       "      <td>0.051282</td>\n",
       "      <td>1.000000</td>\n",
       "      <td>-0.199652</td>\n",
       "    </tr>\n",
       "    <tr>\n",
       "      <th>price</th>\n",
       "      <td>0.670808</td>\n",
       "      <td>0.547310</td>\n",
       "      <td>-0.199652</td>\n",
       "      <td>1.000000</td>\n",
       "    </tr>\n",
       "  </tbody>\n",
       "</table>\n",
       "</div>"
      ],
      "text/plain": [
       "                bathrooms  bedrooms  interest_level     price\n",
       "bathrooms        1.000000  0.517200       -0.062819  0.670808\n",
       "bedrooms         0.517200  1.000000        0.051282  0.547310\n",
       "interest_level  -0.062819  0.051282        1.000000 -0.199652\n",
       "price            0.670808  0.547310       -0.199652  1.000000"
      ]
     },
     "execution_count": 118,
     "metadata": {},
     "output_type": "execute_result"
    }
   ],
   "source": [
    "matrix = df_new[['bathrooms', 'bedrooms', 'interest_level', 'price']].corr()\n",
    "matrix"
   ]
  },
  {
   "cell_type": "code",
   "execution_count": 119,
   "id": "a1de3c8f-11ef-4ec8-94e7-9abda1f41126",
   "metadata": {},
   "outputs": [
    {
     "data": {
      "image/png": "[encoded data removed]",
      "text/plain": [
       "<Figure size 640x480 with 1 Axes>"
      ]
     },
     "metadata": {},
     "output_type": "display_data"
    }
   ],
   "source": [
    "df = df_new.drop(df_new.columns[[0]], axis=1,inplace=False)\n",
    "sns.heatmap(matrix, linewidths=.5, annot=True, cbar=False)\n",
    "plt.show()\n",
    "# есть корреляция для количества ванных комнат и количества спален"
   ]
  },
  {
   "cell_type": "code",
   "execution_count": 120,
   "id": "0ed25082-efbb-4b8a-a65f-8a2fe9170ff7",
   "metadata": {},
   "outputs": [
    {
     "data": {
      "image/png": "[encoded data removed]",
      "text/plain": [
       "<Figure size 640x480 with 1 Axes>"
      ]
     },
     "metadata": {},
     "output_type": "display_data"
    }
   ],
   "source": [
    "plt.scatter (df['price'], df['bathrooms'], alpha=0.5)\n",
    "plt.title('Диаграмма рассеяния для ванных')\n",
    "plt.xlabel('Цена')\n",
    "plt.ylabel('Кол-во ванных комнат')\n",
    "plt.show()"
   ]
  },
  {
   "cell_type": "code",
   "execution_count": 121,
   "id": "23dcfdba-9ddf-4655-a8a2-1a87d726190a",
   "metadata": {},
   "outputs": [
    {
     "data": {
      "image/png": "[encoded data removed]",
      "text/plain": [
       "<Figure size 640x480 with 1 Axes>"
      ]
     },
     "metadata": {},
     "output_type": "display_data"
    }
   ],
   "source": [
    "plt.scatter (df['price'], df['bedrooms'], alpha=0.5)\n",
    "plt.title('Диаграмма рассеяния для спален')\n",
    "plt.xlabel('Цена')\n",
    "plt.ylabel('Кол-во спальных комнат')\n",
    "plt.show()"
   ]
  },
  {
   "cell_type": "code",
   "execution_count": 122,
   "id": "babe2ae2-f249-4b1a-8492-1438590a7f14",
   "metadata": {},
   "outputs": [
    {
     "data": {
      "image/png": "[encoded data removed]",
      "text/plain": [
       "<Figure size 640x480 with 1 Axes>"
      ]
     },
     "metadata": {},
     "output_type": "display_data"
    }
   ],
   "source": [
    "plt.scatter (df['price'], df['interest_level'], alpha=0.5)\n",
    "plt.title('Диаграмма рассеяния для уровня интереса')\n",
    "plt.xlabel('Цена')\n",
    "plt.ylabel('Уровень интереса')\n",
    "plt.show()"
   ]
  },
  {
   "cell_type": "markdown",
   "id": "758be0fc-db2f-4edf-b2b9-003387c2a1bd",
   "metadata": {},
   "source": [
    "## 4. Генерация новых признаков\n",
    "4.1. Этот шаг очень широкий. Вы можете создать все функции, которые захотите. Например, вы можете добавить 3 новых объекта, которые будут иметь значения возведенные в степень других призноков: «bathrooms_squared», «bedrooms_squared», «interest_level_squared». Постройте корреляционную матрицу с новыми функциями. Являются ли новые функции более коррелирующими с целевыми, чем с базовыми функциями?\n",
    "- Для обучения модели здесь мы не будем использовать ваши новые признаки. Запомните этот пример и используйте его в лекции 2.\n",
    "- Прочтите эту информацию о PolynomialFeatures: https://scikit-learn.org/stable/modules/generated/sklearn.preprocessing.PolynomialFeatures.html.\n",
    "- Чтобы использовать PolynomialFeatures, нам сначала нужно разделить данные для обучения и тестирования выборок. Мы уже сделали это для вас, пожалуйста, прочитайте данные поезда и испытаний.\n",
    "- Инициализируйте PolynomialFeatures() со степенью 10.\n",
    "- Примените PolynomialFeatures(), чтобы подогнать и преобразовать данные обучения и испытаний."
   ]
  },
  {
   "cell_type": "code",
   "execution_count": 123,
   "id": "bf6a452b-3d61-4dfe-9da9-8a22743cc967",
   "metadata": {},
   "outputs": [
    {
     "data": {
      "text/html": [
       "<div>\n",
       "<style scoped>\n",
       "    .dataframe tbody tr th:only-of-type {\n",
       "        vertical-align: middle;\n",
       "    }\n",
       "\n",
       "    .dataframe tbody tr th {\n",
       "        vertical-align: top;\n",
       "    }\n",
       "\n",
       "    .dataframe thead th {\n",
       "        text-align: right;\n",
       "    }\n",
       "</style>\n",
       "<table border=\"1\" class=\"dataframe\">\n",
       "  <thead>\n",
       "    <tr style=\"text-align: right;\">\n",
       "      <th></th>\n",
       "      <th>bathrooms</th>\n",
       "      <th>bedrooms</th>\n",
       "      <th>interest_level</th>\n",
       "      <th>bathrooms_squared</th>\n",
       "      <th>bedrooms_squared</th>\n",
       "      <th>interest_level_squared</th>\n",
       "      <th>price</th>\n",
       "    </tr>\n",
       "  </thead>\n",
       "  <tbody>\n",
       "    <tr>\n",
       "      <th>bathrooms</th>\n",
       "      <td>1.000000</td>\n",
       "      <td>0.517200</td>\n",
       "      <td>-0.062819</td>\n",
       "      <td>0.955906</td>\n",
       "      <td>0.548426</td>\n",
       "      <td>-0.058710</td>\n",
       "      <td>0.670808</td>\n",
       "    </tr>\n",
       "    <tr>\n",
       "      <th>bedrooms</th>\n",
       "      <td>0.517200</td>\n",
       "      <td>1.000000</td>\n",
       "      <td>0.051282</td>\n",
       "      <td>0.478497</td>\n",
       "      <td>0.928282</td>\n",
       "      <td>0.040125</td>\n",
       "      <td>0.547310</td>\n",
       "    </tr>\n",
       "    <tr>\n",
       "      <th>interest_level</th>\n",
       "      <td>-0.062819</td>\n",
       "      <td>0.051282</td>\n",
       "      <td>1.000000</td>\n",
       "      <td>-0.067757</td>\n",
       "      <td>0.047048</td>\n",
       "      <td>0.943959</td>\n",
       "      <td>-0.199652</td>\n",
       "    </tr>\n",
       "    <tr>\n",
       "      <th>bathrooms_squared</th>\n",
       "      <td>0.955906</td>\n",
       "      <td>0.478497</td>\n",
       "      <td>-0.067757</td>\n",
       "      <td>1.000000</td>\n",
       "      <td>0.521951</td>\n",
       "      <td>-0.061563</td>\n",
       "      <td>0.646949</td>\n",
       "    </tr>\n",
       "    <tr>\n",
       "      <th>bedrooms_squared</th>\n",
       "      <td>0.548426</td>\n",
       "      <td>0.928282</td>\n",
       "      <td>0.047048</td>\n",
       "      <td>0.521951</td>\n",
       "      <td>1.000000</td>\n",
       "      <td>0.036408</td>\n",
       "      <td>0.544612</td>\n",
       "    </tr>\n",
       "    <tr>\n",
       "      <th>interest_level_squared</th>\n",
       "      <td>-0.058710</td>\n",
       "      <td>0.040125</td>\n",
       "      <td>0.943959</td>\n",
       "      <td>-0.061563</td>\n",
       "      <td>0.036408</td>\n",
       "      <td>1.000000</td>\n",
       "      <td>-0.182283</td>\n",
       "    </tr>\n",
       "    <tr>\n",
       "      <th>price</th>\n",
       "      <td>0.670808</td>\n",
       "      <td>0.547310</td>\n",
       "      <td>-0.199652</td>\n",
       "      <td>0.646949</td>\n",
       "      <td>0.544612</td>\n",
       "      <td>-0.182283</td>\n",
       "      <td>1.000000</td>\n",
       "    </tr>\n",
       "  </tbody>\n",
       "</table>\n",
       "</div>"
      ],
      "text/plain": [
       "                        bathrooms  bedrooms  interest_level  \\\n",
       "bathrooms                1.000000  0.517200       -0.062819   \n",
       "bedrooms                 0.517200  1.000000        0.051282   \n",
       "interest_level          -0.062819  0.051282        1.000000   \n",
       "bathrooms_squared        0.955906  0.478497       -0.067757   \n",
       "bedrooms_squared         0.548426  0.928282        0.047048   \n",
       "interest_level_squared  -0.058710  0.040125        0.943959   \n",
       "price                    0.670808  0.547310       -0.199652   \n",
       "\n",
       "                        bathrooms_squared  bedrooms_squared  \\\n",
       "bathrooms                        0.955906          0.548426   \n",
       "bedrooms                         0.478497          0.928282   \n",
       "interest_level                  -0.067757          0.047048   \n",
       "bathrooms_squared                1.000000          0.521951   \n",
       "bedrooms_squared                 0.521951          1.000000   \n",
       "interest_level_squared          -0.061563          0.036408   \n",
       "price                            0.646949          0.544612   \n",
       "\n",
       "                        interest_level_squared     price  \n",
       "bathrooms                            -0.058710  0.670808  \n",
       "bedrooms                              0.040125  0.547310  \n",
       "interest_level                        0.943959 -0.199652  \n",
       "bathrooms_squared                    -0.061563  0.646949  \n",
       "bedrooms_squared                      0.036408  0.544612  \n",
       "interest_level_squared                1.000000 -0.182283  \n",
       "price                                -0.182283  1.000000  "
      ]
     },
     "execution_count": 123,
     "metadata": {},
     "output_type": "execute_result"
    }
   ],
   "source": [
    "df_square = df.copy()\n",
    "df_square['bathrooms_squared'] = df['bathrooms'] ** 2\n",
    "df_square['bedrooms_squared'] = df['bedrooms'] ** 2\n",
    "df_square['interest_level_squared'] = df['interest_level'] ** 2\n",
    "matrix = df_square[['bathrooms', 'bedrooms', 'interest_level', 'bathrooms_squared', 'bedrooms_squared', 'interest_level_squared', 'price']].corr()\n",
    "matrix"
   ]
  },
  {
   "cell_type": "code",
   "execution_count": 124,
   "id": "758169be-f2f0-430f-86cc-9afe4d96a0d5",
   "metadata": {},
   "outputs": [
    {
     "data": {
      "text/plain": [
       "<Axes: >"
      ]
     },
     "execution_count": 124,
     "metadata": {},
     "output_type": "execute_result"
    },
    {
     "data": {
      "image/png": "[encoded data removed]",
      "text/plain": [
       "<Figure size 640x480 with 2 Axes>"
      ]
     },
     "metadata": {},
     "output_type": "display_data"
    }
   ],
   "source": [
    "sns.heatmap(matrix)"
   ]
  },
  {
   "cell_type": "markdown",
   "id": "df646f77-6068-4d08-9734-6183765f1ada",
   "metadata": {},
   "source": [
    "Базовые функции меньше коррелируют (ванны) или корреляция практически не меняется (для остальных)"
   ]
  },
  {
   "cell_type": "code",
   "execution_count": 125,
   "id": "79527ee9-9caa-42c0-9a78-d9638153c3ef",
   "metadata": {},
   "outputs": [
    {
     "name": "stdout",
     "output_type": "stream",
     "text": [
      "Размер `X_train`: (38674, 3), y_train: (38674,)\n",
      "Размер `X_test`: (9669, 3), y_test: (9669,)\n"
     ]
    }
   ],
   "source": [
    "X = df[['bathrooms', 'bedrooms', 'interest_level']]\n",
    "y = df['price']\n",
    "X_train, X_test, y_train, y_test = sklearn.model_selection.train_test_split(X, y, test_size=0.2, random_state=21)\n",
    "print(f'Размер `X_train`: {X_train.shape}, y_train: {y_train.shape}')\n",
    "print(f'Размер `X_test`: {X_test.shape}, y_test: {y_test.shape}')"
   ]
  },
  {
   "cell_type": "code",
   "execution_count": 126,
   "id": "a33a1064-28f0-4cd2-9264-37934976cd4f",
   "metadata": {},
   "outputs": [
    {
     "name": "stdout",
     "output_type": "stream",
     "text": [
      "Размер `X_train_poly`: (38674, 286)\n",
      "Размер `X_test_poly`: (9669, 286)\n"
     ]
    }
   ],
   "source": [
    "poly = sklearn.preprocessing.PolynomialFeatures(degree=10)\n",
    "X_train_poly = poly.fit_transform(X_train)\n",
    "X_test_poly = poly.fit_transform(X_test)\n",
    "print(f'Размер `X_train_poly`: {X_train_poly.shape}')\n",
    "print(f'Размер `X_test_poly`: {X_test_poly.shape}')"
   ]
  },
  {
   "cell_type": "markdown",
   "id": "b7b11dff-0d5d-41ed-82cc-6395e3222be5",
   "metadata": {},
   "source": [
    "## 5. Теперь вам нужно обучить 3 модели: линейную регрессию, дерево решений и нативную модель. Мы будем использовать его как черные ящики без глубокого понимания."
   ]
  },
  {
   "cell_type": "markdown",
   "id": "5159bdea-7fb4-4fb2-9bc3-84a51e4e1770",
   "metadata": {},
   "source": [
    "### 5.1. Таблица результатов.\n",
    "Создайте два пустых DataFrames pandas со столбцами «model», «train», «test». Назовем первый result_MAE, а второй result_RMSE. Заполним эти таблицы результатами моделей."
   ]
  },
  {
   "cell_type": "code",
   "execution_count": 127,
   "id": "df41eea0-606d-4fb2-abf8-bf0d7e78e10c",
   "metadata": {},
   "outputs": [],
   "source": [
    "result_MAE = pd.DataFrame(columns=['model', 'train', 'test']) # Средняя абсолютная ошибка\n",
    "result_RMSE = pd.DataFrame(columns=['model', 'train', 'test']) # Корень среднеквадратичной ошибки"
   ]
  },
  {
   "cell_type": "markdown",
   "id": "e53374e1-4d00-484c-99c9-a88eb84b477d",
   "metadata": {},
   "source": [
    "### 5.2. Линейная регрессия\n",
    "- Инициализируйте линейную регрессию из sklearn без параметров.\n",
    "- Подберите свою модель и делайте прогнозы по функциям обучения и тестирования. Сохраните его как новые столбцы в данных.\n",
    "- Рассчитайте MAE (среднюю абсолютную ошибку) для поездов и тестовых целей.\n",
    "- Рассчитать RMSE (среднеквадратическую ошибку) для поездов и тестовых целей\n",
    "- Вставьте свои показатели в таблицы result_MAE и result_RMSE с именем модели «линейная_регрессия»."
   ]
  },
  {
   "cell_type": "code",
   "execution_count": 128,
   "id": "de5580cf-7f09-4c9e-852f-d5e2244ea7a9",
   "metadata": {},
   "outputs": [],
   "source": [
    "lin_reg = LinearRegression()\n",
    "lin_reg.fit(X_train_poly, y_train)\n",
    "y_train_predict = lin_reg.predict(X_train_poly)\n",
    "y_test_predict = lin_reg.predict(X_test_poly)"
   ]
  },
  {
   "cell_type": "code",
   "execution_count": 129,
   "id": "b8df2f3f-d672-4b30-874a-8b135eb8fe15",
   "metadata": {},
   "outputs": [],
   "source": [
    "mae_train = mean_absolute_error(y_train, y_train_predict)\n",
    "mae_test = mean_absolute_error(y_test, y_test_predict)"
   ]
  },
  {
   "cell_type": "code",
   "execution_count": 130,
   "id": "2b805baa-c0aa-4679-a9ea-1657511568d3",
   "metadata": {},
   "outputs": [],
   "source": [
    "rmse_train = root_mean_squared_error(y_train, y_train_predict)\n",
    "rmse_test = root_mean_squared_error(y_test, y_test_predict)"
   ]
  },
  {
   "cell_type": "code",
   "execution_count": 131,
   "id": "e60cf802-b5fb-4fb1-85c6-7f05f45a2a62",
   "metadata": {},
   "outputs": [
    {
     "data": {
      "text/html": [
       "<div>\n",
       "<style scoped>\n",
       "    .dataframe tbody tr th:only-of-type {\n",
       "        vertical-align: middle;\n",
       "    }\n",
       "\n",
       "    .dataframe tbody tr th {\n",
       "        vertical-align: top;\n",
       "    }\n",
       "\n",
       "    .dataframe thead th {\n",
       "        text-align: right;\n",
       "    }\n",
       "</style>\n",
       "<table border=\"1\" class=\"dataframe\">\n",
       "  <thead>\n",
       "    <tr style=\"text-align: right;\">\n",
       "      <th></th>\n",
       "      <th>model</th>\n",
       "      <th>train</th>\n",
       "      <th>test</th>\n",
       "    </tr>\n",
       "  </thead>\n",
       "  <tbody>\n",
       "    <tr>\n",
       "      <th>0</th>\n",
       "      <td>linreg</td>\n",
       "      <td>718.825047</td>\n",
       "      <td>1374.255664</td>\n",
       "    </tr>\n",
       "  </tbody>\n",
       "</table>\n",
       "</div>"
      ],
      "text/plain": [
       "    model       train         test\n",
       "0  linreg  718.825047  1374.255664"
      ]
     },
     "execution_count": 131,
     "metadata": {},
     "output_type": "execute_result"
    }
   ],
   "source": [
    "result_MAE.loc[len(result_MAE.index)] = ['linreg', mae_train, mae_test]\n",
    "result_MAE"
   ]
  },
  {
   "cell_type": "code",
   "execution_count": 132,
   "id": "18876495-6783-4418-843b-b3b43b3ac992",
   "metadata": {},
   "outputs": [
    {
     "data": {
      "text/html": [
       "<div>\n",
       "<style scoped>\n",
       "    .dataframe tbody tr th:only-of-type {\n",
       "        vertical-align: middle;\n",
       "    }\n",
       "\n",
       "    .dataframe tbody tr th {\n",
       "        vertical-align: top;\n",
       "    }\n",
       "\n",
       "    .dataframe thead th {\n",
       "        text-align: right;\n",
       "    }\n",
       "</style>\n",
       "<table border=\"1\" class=\"dataframe\">\n",
       "  <thead>\n",
       "    <tr style=\"text-align: right;\">\n",
       "      <th></th>\n",
       "      <th>model</th>\n",
       "      <th>train</th>\n",
       "      <th>test</th>\n",
       "    </tr>\n",
       "  </thead>\n",
       "  <tbody>\n",
       "    <tr>\n",
       "      <th>0</th>\n",
       "      <td>linreg</td>\n",
       "      <td>1025.483464</td>\n",
       "      <td>63318.921228</td>\n",
       "    </tr>\n",
       "  </tbody>\n",
       "</table>\n",
       "</div>"
      ],
      "text/plain": [
       "    model        train          test\n",
       "0  linreg  1025.483464  63318.921228"
      ]
     },
     "execution_count": 132,
     "metadata": {},
     "output_type": "execute_result"
    }
   ],
   "source": [
    "result_RMSE.loc[len(result_RMSE.index)] = ['linreg', rmse_train, rmse_test]\n",
    "result_RMSE"
   ]
  },
  {
   "cell_type": "markdown",
   "id": "88930ee7-9f7d-4023-b48c-4466cca10575",
   "metadata": {},
   "source": [
    "### 5.3. Древо решений\n",
    "- Инициализировать регрессор дерева решений из sklearn с фиксированным random_state=42\n",
    "- Установите его на характеристики поезда и цель обучения, а также делайте прогнозы по функциям поезда и тестирования. Сохраните его как новый столбец в данных.\n",
    "- Рассчитайте MAE (среднюю абсолютную ошибку) для поездов и тестовых целей.\n",
    "- Рассчитать RMSE (среднеквадратическую ошибку) для поездов и тестовых целей\n",
    "- Вставьте свои показатели в таблицы result_MAE и result_RMSE с именем модели «decision_tree»."
   ]
  },
  {
   "cell_type": "code",
   "execution_count": 133,
   "id": "244bec0f-1c2d-482b-a689-6cb14418ff1e",
   "metadata": {},
   "outputs": [],
   "source": [
    "tree = DecisionTreeRegressor(random_state=42)\n",
    "tree.fit(X_train_poly, y_train)\n",
    "y_train_predict = tree.predict(X_train_poly)\n",
    "y_test_predict = tree.predict(X_test_poly)"
   ]
  },
  {
   "cell_type": "code",
   "execution_count": 134,
   "id": "91baefe0-33b9-4426-8a4f-fa6802134ea0",
   "metadata": {},
   "outputs": [],
   "source": [
    "mae_train = mean_absolute_error(y_train, y_train_predict)\n",
    "mae_test = mean_absolute_error(y_test, y_test_predict)"
   ]
  },
  {
   "cell_type": "code",
   "execution_count": 135,
   "id": "e75acdc4-e04f-460e-85d3-5b958477cf9f",
   "metadata": {},
   "outputs": [],
   "source": [
    "rmse_train = root_mean_squared_error(y_train, y_train_predict)\n",
    "rmse_test = root_mean_squared_error(y_test, y_test_predict)"
   ]
  },
  {
   "cell_type": "code",
   "execution_count": 136,
   "id": "76b04f15-6127-4fdc-a111-5aaba787fea5",
   "metadata": {},
   "outputs": [
    {
     "data": {
      "text/html": [
       "<div>\n",
       "<style scoped>\n",
       "    .dataframe tbody tr th:only-of-type {\n",
       "        vertical-align: middle;\n",
       "    }\n",
       "\n",
       "    .dataframe tbody tr th {\n",
       "        vertical-align: top;\n",
       "    }\n",
       "\n",
       "    .dataframe thead th {\n",
       "        text-align: right;\n",
       "    }\n",
       "</style>\n",
       "<table border=\"1\" class=\"dataframe\">\n",
       "  <thead>\n",
       "    <tr style=\"text-align: right;\">\n",
       "      <th></th>\n",
       "      <th>model</th>\n",
       "      <th>train</th>\n",
       "      <th>test</th>\n",
       "    </tr>\n",
       "  </thead>\n",
       "  <tbody>\n",
       "    <tr>\n",
       "      <th>0</th>\n",
       "      <td>linreg</td>\n",
       "      <td>718.825047</td>\n",
       "      <td>1374.255664</td>\n",
       "    </tr>\n",
       "    <tr>\n",
       "      <th>1</th>\n",
       "      <td>tree</td>\n",
       "      <td>718.825041</td>\n",
       "      <td>727.070811</td>\n",
       "    </tr>\n",
       "  </tbody>\n",
       "</table>\n",
       "</div>"
      ],
      "text/plain": [
       "    model       train         test\n",
       "0  linreg  718.825047  1374.255664\n",
       "1    tree  718.825041   727.070811"
      ]
     },
     "execution_count": 136,
     "metadata": {},
     "output_type": "execute_result"
    }
   ],
   "source": [
    "result_MAE.loc[len(result_MAE.index)] = ['tree', mae_train, mae_test]\n",
    "result_MAE"
   ]
  },
  {
   "cell_type": "code",
   "execution_count": 137,
   "id": "6e63a01f-22cc-4cbd-886c-435373709d9e",
   "metadata": {},
   "outputs": [
    {
     "data": {
      "text/html": [
       "<div>\n",
       "<style scoped>\n",
       "    .dataframe tbody tr th:only-of-type {\n",
       "        vertical-align: middle;\n",
       "    }\n",
       "\n",
       "    .dataframe tbody tr th {\n",
       "        vertical-align: top;\n",
       "    }\n",
       "\n",
       "    .dataframe thead th {\n",
       "        text-align: right;\n",
       "    }\n",
       "</style>\n",
       "<table border=\"1\" class=\"dataframe\">\n",
       "  <thead>\n",
       "    <tr style=\"text-align: right;\">\n",
       "      <th></th>\n",
       "      <th>model</th>\n",
       "      <th>train</th>\n",
       "      <th>test</th>\n",
       "    </tr>\n",
       "  </thead>\n",
       "  <tbody>\n",
       "    <tr>\n",
       "      <th>0</th>\n",
       "      <td>linreg</td>\n",
       "      <td>1025.483464</td>\n",
       "      <td>63318.921228</td>\n",
       "    </tr>\n",
       "    <tr>\n",
       "      <th>1</th>\n",
       "      <td>tree</td>\n",
       "      <td>1025.483464</td>\n",
       "      <td>1032.541333</td>\n",
       "    </tr>\n",
       "  </tbody>\n",
       "</table>\n",
       "</div>"
      ],
      "text/plain": [
       "    model        train          test\n",
       "0  linreg  1025.483464  63318.921228\n",
       "1    tree  1025.483464   1032.541333"
      ]
     },
     "execution_count": 137,
     "metadata": {},
     "output_type": "execute_result"
    }
   ],
   "source": [
    "result_RMSE.loc[len(result_RMSE.index)] = ['tree', rmse_train, rmse_test]\n",
    "result_RMSE"
   ]
  },
  {
   "cell_type": "markdown",
   "id": "26f625b4-7208-4625-a8cb-ce047602974f",
   "metadata": {},
   "source": [
    "### 5.4. Нативные модели\n",
    "- Рассчитайте среднее и медианное значение «цены» для данных поездов и испытаний и создайте столбцы с этими значениями.\n",
    "- Рассчитайте MAE на поезде и проверьте целевые показатели между вашими целевыми и рассчитанными средними и медианными значениями.\n",
    "- Рассчитайте RMSE для поезда и проверьте целевые показатели между вашими целевыми и рассчитанными средними и медианными значениями.\n",
    "- Вставьте свои показатели в таблицы result_MAE и result_RMSE с именами моделей «native_mean» и «native_median»."
   ]
  },
  {
   "cell_type": "code",
   "execution_count": 138,
   "id": "684fd198-0f10-4d79-b25d-6848bc064d67",
   "metadata": {},
   "outputs": [
    {
     "data": {
      "text/html": [
       "<div>\n",
       "<style scoped>\n",
       "    .dataframe tbody tr th:only-of-type {\n",
       "        vertical-align: middle;\n",
       "    }\n",
       "\n",
       "    .dataframe tbody tr th {\n",
       "        vertical-align: top;\n",
       "    }\n",
       "\n",
       "    .dataframe thead th {\n",
       "        text-align: right;\n",
       "    }\n",
       "</style>\n",
       "<table border=\"1\" class=\"dataframe\">\n",
       "  <thead>\n",
       "    <tr style=\"text-align: right;\">\n",
       "      <th></th>\n",
       "      <th>price</th>\n",
       "      <th>mean</th>\n",
       "      <th>median</th>\n",
       "    </tr>\n",
       "  </thead>\n",
       "  <tbody>\n",
       "    <tr>\n",
       "      <th>44088</th>\n",
       "      <td>3200</td>\n",
       "      <td>3535.823783</td>\n",
       "      <td>3150.0</td>\n",
       "    </tr>\n",
       "    <tr>\n",
       "      <th>26961</th>\n",
       "      <td>4650</td>\n",
       "      <td>3535.823783</td>\n",
       "      <td>3150.0</td>\n",
       "    </tr>\n",
       "    <tr>\n",
       "      <th>39739</th>\n",
       "      <td>5000</td>\n",
       "      <td>3535.823783</td>\n",
       "      <td>3150.0</td>\n",
       "    </tr>\n",
       "    <tr>\n",
       "      <th>3836</th>\n",
       "      <td>5500</td>\n",
       "      <td>3535.823783</td>\n",
       "      <td>3150.0</td>\n",
       "    </tr>\n",
       "    <tr>\n",
       "      <th>19524</th>\n",
       "      <td>2350</td>\n",
       "      <td>3535.823783</td>\n",
       "      <td>3150.0</td>\n",
       "    </tr>\n",
       "    <tr>\n",
       "      <th>...</th>\n",
       "      <td>...</td>\n",
       "      <td>...</td>\n",
       "      <td>...</td>\n",
       "    </tr>\n",
       "    <tr>\n",
       "      <th>16779</th>\n",
       "      <td>3750</td>\n",
       "      <td>3535.823783</td>\n",
       "      <td>3150.0</td>\n",
       "    </tr>\n",
       "    <tr>\n",
       "      <th>9165</th>\n",
       "      <td>7000</td>\n",
       "      <td>3535.823783</td>\n",
       "      <td>3150.0</td>\n",
       "    </tr>\n",
       "    <tr>\n",
       "      <th>6080</th>\n",
       "      <td>3800</td>\n",
       "      <td>3535.823783</td>\n",
       "      <td>3150.0</td>\n",
       "    </tr>\n",
       "    <tr>\n",
       "      <th>5454</th>\n",
       "      <td>2895</td>\n",
       "      <td>3535.823783</td>\n",
       "      <td>3150.0</td>\n",
       "    </tr>\n",
       "    <tr>\n",
       "      <th>15631</th>\n",
       "      <td>2300</td>\n",
       "      <td>3535.823783</td>\n",
       "      <td>3150.0</td>\n",
       "    </tr>\n",
       "  </tbody>\n",
       "</table>\n",
       "<p>38674 rows × 3 columns</p>\n",
       "</div>"
      ],
      "text/plain": [
       "       price         mean  median\n",
       "44088   3200  3535.823783  3150.0\n",
       "26961   4650  3535.823783  3150.0\n",
       "39739   5000  3535.823783  3150.0\n",
       "3836    5500  3535.823783  3150.0\n",
       "19524   2350  3535.823783  3150.0\n",
       "...      ...          ...     ...\n",
       "16779   3750  3535.823783  3150.0\n",
       "9165    7000  3535.823783  3150.0\n",
       "6080    3800  3535.823783  3150.0\n",
       "5454    2895  3535.823783  3150.0\n",
       "15631   2300  3535.823783  3150.0\n",
       "\n",
       "[38674 rows x 3 columns]"
      ]
     },
     "execution_count": 138,
     "metadata": {},
     "output_type": "execute_result"
    }
   ],
   "source": [
    "native_train = pd.DataFrame(data=y_train)\n",
    "native_train['mean'] = native_train.price.mean()\n",
    "native_train['median'] = native_train.price.median()\n",
    "native_train"
   ]
  },
  {
   "cell_type": "code",
   "execution_count": 139,
   "id": "14283129-ac48-41e1-8248-e83e3d8832e2",
   "metadata": {},
   "outputs": [
    {
     "data": {
      "text/html": [
       "<div>\n",
       "<style scoped>\n",
       "    .dataframe tbody tr th:only-of-type {\n",
       "        vertical-align: middle;\n",
       "    }\n",
       "\n",
       "    .dataframe tbody tr th {\n",
       "        vertical-align: top;\n",
       "    }\n",
       "\n",
       "    .dataframe thead th {\n",
       "        text-align: right;\n",
       "    }\n",
       "</style>\n",
       "<table border=\"1\" class=\"dataframe\">\n",
       "  <thead>\n",
       "    <tr style=\"text-align: right;\">\n",
       "      <th></th>\n",
       "      <th>price</th>\n",
       "      <th>mean</th>\n",
       "      <th>median</th>\n",
       "    </tr>\n",
       "  </thead>\n",
       "  <tbody>\n",
       "    <tr>\n",
       "      <th>15316</th>\n",
       "      <td>2650</td>\n",
       "      <td>3532.541111</td>\n",
       "      <td>3147.0</td>\n",
       "    </tr>\n",
       "    <tr>\n",
       "      <th>29020</th>\n",
       "      <td>4000</td>\n",
       "      <td>3532.541111</td>\n",
       "      <td>3147.0</td>\n",
       "    </tr>\n",
       "    <tr>\n",
       "      <th>16422</th>\n",
       "      <td>3715</td>\n",
       "      <td>3532.541111</td>\n",
       "      <td>3147.0</td>\n",
       "    </tr>\n",
       "    <tr>\n",
       "      <th>33071</th>\n",
       "      <td>4700</td>\n",
       "      <td>3532.541111</td>\n",
       "      <td>3147.0</td>\n",
       "    </tr>\n",
       "    <tr>\n",
       "      <th>20415</th>\n",
       "      <td>10680</td>\n",
       "      <td>3532.541111</td>\n",
       "      <td>3147.0</td>\n",
       "    </tr>\n",
       "    <tr>\n",
       "      <th>...</th>\n",
       "      <td>...</td>\n",
       "      <td>...</td>\n",
       "      <td>...</td>\n",
       "    </tr>\n",
       "    <tr>\n",
       "      <th>46375</th>\n",
       "      <td>5500</td>\n",
       "      <td>3532.541111</td>\n",
       "      <td>3147.0</td>\n",
       "    </tr>\n",
       "    <tr>\n",
       "      <th>13009</th>\n",
       "      <td>2900</td>\n",
       "      <td>3532.541111</td>\n",
       "      <td>3147.0</td>\n",
       "    </tr>\n",
       "    <tr>\n",
       "      <th>4297</th>\n",
       "      <td>2600</td>\n",
       "      <td>3532.541111</td>\n",
       "      <td>3147.0</td>\n",
       "    </tr>\n",
       "    <tr>\n",
       "      <th>20420</th>\n",
       "      <td>2050</td>\n",
       "      <td>3532.541111</td>\n",
       "      <td>3147.0</td>\n",
       "    </tr>\n",
       "    <tr>\n",
       "      <th>23189</th>\n",
       "      <td>3495</td>\n",
       "      <td>3532.541111</td>\n",
       "      <td>3147.0</td>\n",
       "    </tr>\n",
       "  </tbody>\n",
       "</table>\n",
       "<p>9669 rows × 3 columns</p>\n",
       "</div>"
      ],
      "text/plain": [
       "       price         mean  median\n",
       "15316   2650  3532.541111  3147.0\n",
       "29020   4000  3532.541111  3147.0\n",
       "16422   3715  3532.541111  3147.0\n",
       "33071   4700  3532.541111  3147.0\n",
       "20415  10680  3532.541111  3147.0\n",
       "...      ...          ...     ...\n",
       "46375   5500  3532.541111  3147.0\n",
       "13009   2900  3532.541111  3147.0\n",
       "4297    2600  3532.541111  3147.0\n",
       "20420   2050  3532.541111  3147.0\n",
       "23189   3495  3532.541111  3147.0\n",
       "\n",
       "[9669 rows x 3 columns]"
      ]
     },
     "execution_count": 139,
     "metadata": {},
     "output_type": "execute_result"
    }
   ],
   "source": [
    "native_test = pd.DataFrame(data=y_test)\n",
    "native_test['mean'] = native_test.price.mean()\n",
    "native_test['median'] = native_test.price.median()\n",
    "native_test"
   ]
  },
  {
   "cell_type": "code",
   "execution_count": 140,
   "id": "f36d807a-8a2d-47ca-867d-b9904c3203f0",
   "metadata": {},
   "outputs": [
    {
     "data": {
      "text/html": [
       "<div>\n",
       "<style scoped>\n",
       "    .dataframe tbody tr th:only-of-type {\n",
       "        vertical-align: middle;\n",
       "    }\n",
       "\n",
       "    .dataframe tbody tr th {\n",
       "        vertical-align: top;\n",
       "    }\n",
       "\n",
       "    .dataframe thead th {\n",
       "        text-align: right;\n",
       "    }\n",
       "</style>\n",
       "<table border=\"1\" class=\"dataframe\">\n",
       "  <thead>\n",
       "    <tr style=\"text-align: right;\">\n",
       "      <th></th>\n",
       "      <th>model</th>\n",
       "      <th>train</th>\n",
       "      <th>test</th>\n",
       "    </tr>\n",
       "  </thead>\n",
       "  <tbody>\n",
       "    <tr>\n",
       "      <th>0</th>\n",
       "      <td>linreg</td>\n",
       "      <td>718.825047</td>\n",
       "      <td>1374.255664</td>\n",
       "    </tr>\n",
       "    <tr>\n",
       "      <th>1</th>\n",
       "      <td>tree</td>\n",
       "      <td>718.825041</td>\n",
       "      <td>727.070811</td>\n",
       "    </tr>\n",
       "    <tr>\n",
       "      <th>2</th>\n",
       "      <td>mean</td>\n",
       "      <td>1131.815443</td>\n",
       "      <td>1144.533690</td>\n",
       "    </tr>\n",
       "    <tr>\n",
       "      <th>3</th>\n",
       "      <td>median</td>\n",
       "      <td>1079.734162</td>\n",
       "      <td>1092.166408</td>\n",
       "    </tr>\n",
       "  </tbody>\n",
       "</table>\n",
       "</div>"
      ],
      "text/plain": [
       "    model        train         test\n",
       "0  linreg   718.825047  1374.255664\n",
       "1    tree   718.825041   727.070811\n",
       "2    mean  1131.815443  1144.533690\n",
       "3  median  1079.734162  1092.166408"
      ]
     },
     "execution_count": 140,
     "metadata": {},
     "output_type": "execute_result"
    }
   ],
   "source": [
    "mae_train_mean = mean_absolute_error(y_train, native_train['mean'])\n",
    "mae_test_mean = mean_absolute_error(y_test, native_test['mean'])\n",
    "mae_train_median = mean_absolute_error(y_train, native_train['median'])\n",
    "mae_test_median = mean_absolute_error(y_test, native_test['median'])\n",
    "\n",
    "result_MAE.loc[len(result_MAE.index)] = ['mean', mae_train_mean, mae_test_mean]\n",
    "result_MAE.loc[len(result_MAE.index)] = ['median', mae_train_median, mae_test_median]\n",
    "result_MAE"
   ]
  },
  {
   "cell_type": "code",
   "execution_count": 141,
   "id": "dc2224e5-03c6-4ee9-9dfa-93877f6ff081",
   "metadata": {},
   "outputs": [
    {
     "data": {
      "text/html": [
       "<div>\n",
       "<style scoped>\n",
       "    .dataframe tbody tr th:only-of-type {\n",
       "        vertical-align: middle;\n",
       "    }\n",
       "\n",
       "    .dataframe tbody tr th {\n",
       "        vertical-align: top;\n",
       "    }\n",
       "\n",
       "    .dataframe thead th {\n",
       "        text-align: right;\n",
       "    }\n",
       "</style>\n",
       "<table border=\"1\" class=\"dataframe\">\n",
       "  <thead>\n",
       "    <tr style=\"text-align: right;\">\n",
       "      <th></th>\n",
       "      <th>model</th>\n",
       "      <th>train</th>\n",
       "      <th>test</th>\n",
       "    </tr>\n",
       "  </thead>\n",
       "  <tbody>\n",
       "    <tr>\n",
       "      <th>0</th>\n",
       "      <td>linreg</td>\n",
       "      <td>1025.483464</td>\n",
       "      <td>63318.921228</td>\n",
       "    </tr>\n",
       "    <tr>\n",
       "      <th>1</th>\n",
       "      <td>tree</td>\n",
       "      <td>1025.483464</td>\n",
       "      <td>1032.541333</td>\n",
       "    </tr>\n",
       "    <tr>\n",
       "      <th>2</th>\n",
       "      <td>mean</td>\n",
       "      <td>1580.460676</td>\n",
       "      <td>1606.034024</td>\n",
       "    </tr>\n",
       "    <tr>\n",
       "      <th>3</th>\n",
       "      <td>median</td>\n",
       "      <td>1626.873056</td>\n",
       "      <td>1651.661962</td>\n",
       "    </tr>\n",
       "  </tbody>\n",
       "</table>\n",
       "</div>"
      ],
      "text/plain": [
       "    model        train          test\n",
       "0  linreg  1025.483464  63318.921228\n",
       "1    tree  1025.483464   1032.541333\n",
       "2    mean  1580.460676   1606.034024\n",
       "3  median  1626.873056   1651.661962"
      ]
     },
     "execution_count": 141,
     "metadata": {},
     "output_type": "execute_result"
    }
   ],
   "source": [
    "rmse_train_mean = root_mean_squared_error(y_train, native_train['mean'])\n",
    "rmse_test_mean = root_mean_squared_error(y_test, native_test['mean'])\n",
    "rmse_train_median = root_mean_squared_error(y_train, native_train['median'])\n",
    "rmse_test_median = root_mean_squared_error(y_test, native_test['median'])\n",
    "\n",
    "result_RMSE.loc[len(result_RMSE.index)] = ['mean', rmse_train_mean, rmse_test_mean]\n",
    "result_RMSE.loc[len(result_RMSE.index)] = ['median', rmse_train_median, rmse_test_median]\n",
    "result_RMSE"
   ]
  },
  {
   "cell_type": "markdown",
   "id": "e978240f-9337-4c4e-8960-cfda3eb3c56e",
   "metadata": {},
   "source": [
    "### 5.5. Сравнить результаты\n",
    "Распечатайте итоговые таблицы result_MAE и result_RMSE.\n",
    "Какая модель лучшая?"
   ]
  },
  {
   "cell_type": "code",
   "execution_count": 142,
   "id": "3d2a840e-9c53-41fc-8c06-f212ab23cc03",
   "metadata": {},
   "outputs": [
    {
     "data": {
      "text/html": [
       "<div>\n",
       "<style scoped>\n",
       "    .dataframe tbody tr th:only-of-type {\n",
       "        vertical-align: middle;\n",
       "    }\n",
       "\n",
       "    .dataframe tbody tr th {\n",
       "        vertical-align: top;\n",
       "    }\n",
       "\n",
       "    .dataframe thead th {\n",
       "        text-align: right;\n",
       "    }\n",
       "</style>\n",
       "<table border=\"1\" class=\"dataframe\">\n",
       "  <thead>\n",
       "    <tr style=\"text-align: right;\">\n",
       "      <th></th>\n",
       "      <th>model</th>\n",
       "      <th>train</th>\n",
       "      <th>test</th>\n",
       "    </tr>\n",
       "  </thead>\n",
       "  <tbody>\n",
       "    <tr>\n",
       "      <th>0</th>\n",
       "      <td>linreg</td>\n",
       "      <td>718.825047</td>\n",
       "      <td>1374.255664</td>\n",
       "    </tr>\n",
       "    <tr>\n",
       "      <th>1</th>\n",
       "      <td>tree</td>\n",
       "      <td>718.825041</td>\n",
       "      <td>727.070811</td>\n",
       "    </tr>\n",
       "    <tr>\n",
       "      <th>2</th>\n",
       "      <td>mean</td>\n",
       "      <td>1131.815443</td>\n",
       "      <td>1144.533690</td>\n",
       "    </tr>\n",
       "    <tr>\n",
       "      <th>3</th>\n",
       "      <td>median</td>\n",
       "      <td>1079.734162</td>\n",
       "      <td>1092.166408</td>\n",
       "    </tr>\n",
       "  </tbody>\n",
       "</table>\n",
       "</div>"
      ],
      "text/plain": [
       "    model        train         test\n",
       "0  linreg   718.825047  1374.255664\n",
       "1    tree   718.825041   727.070811\n",
       "2    mean  1131.815443  1144.533690\n",
       "3  median  1079.734162  1092.166408"
      ]
     },
     "execution_count": 142,
     "metadata": {},
     "output_type": "execute_result"
    }
   ],
   "source": [
    "result_MAE"
   ]
  },
  {
   "cell_type": "code",
   "execution_count": 143,
   "id": "2fc01d7a-4e29-4467-acea-8aaa02577fd8",
   "metadata": {},
   "outputs": [
    {
     "data": {
      "text/html": [
       "<div>\n",
       "<style scoped>\n",
       "    .dataframe tbody tr th:only-of-type {\n",
       "        vertical-align: middle;\n",
       "    }\n",
       "\n",
       "    .dataframe tbody tr th {\n",
       "        vertical-align: top;\n",
       "    }\n",
       "\n",
       "    .dataframe thead th {\n",
       "        text-align: right;\n",
       "    }\n",
       "</style>\n",
       "<table border=\"1\" class=\"dataframe\">\n",
       "  <thead>\n",
       "    <tr style=\"text-align: right;\">\n",
       "      <th></th>\n",
       "      <th>model</th>\n",
       "      <th>train</th>\n",
       "      <th>test</th>\n",
       "    </tr>\n",
       "  </thead>\n",
       "  <tbody>\n",
       "    <tr>\n",
       "      <th>0</th>\n",
       "      <td>linreg</td>\n",
       "      <td>1025.483464</td>\n",
       "      <td>63318.921228</td>\n",
       "    </tr>\n",
       "    <tr>\n",
       "      <th>1</th>\n",
       "      <td>tree</td>\n",
       "      <td>1025.483464</td>\n",
       "      <td>1032.541333</td>\n",
       "    </tr>\n",
       "    <tr>\n",
       "      <th>2</th>\n",
       "      <td>mean</td>\n",
       "      <td>1580.460676</td>\n",
       "      <td>1606.034024</td>\n",
       "    </tr>\n",
       "    <tr>\n",
       "      <th>3</th>\n",
       "      <td>median</td>\n",
       "      <td>1626.873056</td>\n",
       "      <td>1651.661962</td>\n",
       "    </tr>\n",
       "  </tbody>\n",
       "</table>\n",
       "</div>"
      ],
      "text/plain": [
       "    model        train          test\n",
       "0  linreg  1025.483464  63318.921228\n",
       "1    tree  1025.483464   1032.541333\n",
       "2    mean  1580.460676   1606.034024\n",
       "3  median  1626.873056   1651.661962"
      ]
     },
     "execution_count": 143,
     "metadata": {},
     "output_type": "execute_result"
    }
   ],
   "source": [
    "result_RMSE"
   ]
  },
  {
   "cell_type": "markdown",
   "id": "5d8e4b03-12cf-4966-816e-2722f2a2f807",
   "metadata": {},
   "source": [
    "ANSWER: Для тренировочной выборки лучше всех себя показали модели `linreg` и `tree`. Однако на тестовой выборке наилучший результат показал `tree`. Поэтому Считаю, что `tree` - лучшая модель."
   ]
  },
  {
   "cell_type": "code",
   "execution_count": null,
   "id": "4f9f73ac-2dbe-4a0f-89f1-acd6aac356f0",
   "metadata": {},
   "outputs": [],
   "source": []
  }
 ],
 "metadata": {
  "kernelspec": {
   "display_name": "tf",
   "language": "python",
   "name": "myenv"
  },
  "language_info": {
   "codemirror_mode": {
    "name": "ipython",
    "version": 3
   },
   "file_extension": ".py",
   "mimetype": "text/x-python",
   "name": "python",
   "nbconvert_exporter": "python",
   "pygments_lexer": "ipython3",
   "version": "3.9.18"
  }
 },
 "nbformat": 4,
 "nbformat_minor": 5
}
